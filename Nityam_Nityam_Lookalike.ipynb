{
 "cells": [
  {
   "cell_type": "code",
   "execution_count": 23,
   "metadata": {},
   "outputs": [],
   "source": [
    "import pandas as pd\n",
    "import numpy as np\n",
    "from sklearn.preprocessing import StandardScaler\n",
    "from sklearn.metrics.pairwise import cosine_similarity\n",
    "from datetime import datetime"
   ]
  },
  {
   "cell_type": "code",
   "execution_count": 24,
   "metadata": {},
   "outputs": [],
   "source": [
    "def load_and_prepare_data():\n",
    "    # Load datasets\n",
    "    customers = pd.read_csv('Customers.csv')\n",
    "    products = pd.read_csv('Products.csv')\n",
    "    transactions = pd.read_csv('Transactions.csv')\n",
    "    \n",
    "    # Convert dates to datetime\n",
    "    customers['SignupDate'] = pd.to_datetime(customers['SignupDate'])\n",
    "    transactions['TransactionDate'] = pd.to_datetime(transactions['TransactionDate'])\n",
    "    \n",
    "    return customers, products, transactions"
   ]
  },
  {
   "cell_type": "code",
   "execution_count": 25,
   "metadata": {},
   "outputs": [],
   "source": [
    "def create_customer_features(customers, transactions, products):\n",
    "    # Calculate customer-level transaction metrics\n",
    "    transaction_metrics = transactions.groupby('CustomerID').agg({\n",
    "        'TransactionID': 'count',  # Number of transactions\n",
    "        'TotalValue': ['sum', 'mean'],  # Total spend and average spend per transaction\n",
    "        'Quantity': ['sum', 'mean']  # Total quantity and average quantity per transaction\n",
    "    }).reset_index()\n",
    "    \n",
    "    # Flatten column names\n",
    "    transaction_metrics.columns = ['CustomerID', 'num_transactions', 'total_spend', \n",
    "                                 'avg_transaction_value', 'total_quantity', 'avg_quantity']\n",
    "    \n",
    "    # Calculate category preferences\n",
    "    category_preferences = (\n",
    "        transactions\n",
    "        .merge(products[['ProductID', 'Category']], on='ProductID')\n",
    "        .groupby(['CustomerID', 'Category'])\n",
    "        .size()\n",
    "        .unstack(fill_value=0)\n",
    "    )\n",
    "    \n",
    "    # Calculate recency\n",
    "    latest_transaction = transactions.groupby('CustomerID')['TransactionDate'].max()\n",
    "    first_transaction = transactions.groupby('CustomerID')['TransactionDate'].min()\n",
    "    customer_recency = (latest_transaction - first_transaction).dt.days\n",
    "    \n",
    "    # Combine all features\n",
    "    customer_features = (\n",
    "        customers[['CustomerID', 'Region', 'SignupDate']]\n",
    "        .merge(transaction_metrics, on='CustomerID')\n",
    "        .merge(category_preferences, left_on='CustomerID', right_index=True)\n",
    "        .merge(customer_recency.reset_index(name='account_age_days'), on='CustomerID')\n",
    "    )\n",
    "    \n",
    "    # Convert Region to dummy variables\n",
    "    customer_features = pd.get_dummies(customer_features, columns=['Region'])\n",
    "    \n",
    "    # Convert SignupDate to account age in days\n",
    "    reference_date = pd.Timestamp('2024-01-27')  # Using current date as reference\n",
    "    customer_features['signup_age_days'] = (\n",
    "        reference_date - customer_features['SignupDate']\n",
    "    ).dt.days\n",
    "    \n",
    "    customer_features.drop('SignupDate', axis=1, inplace=True)\n",
    "    \n",
    "    return customer_features\n"
   ]
  },
  {
   "cell_type": "code",
   "execution_count": 26,
   "metadata": {},
   "outputs": [],
   "source": [
    "def find_lookalikes(customer_features, target_customer_id, n_recommendations=3):\n",
    "    # Standardize features\n",
    "    scaler = StandardScaler()\n",
    "    feature_columns = customer_features.columns.drop('CustomerID')\n",
    "    scaled_features = scaler.fit_transform(customer_features[feature_columns])\n",
    "    \n",
    "    # Calculate cosine similarity\n",
    "    similarity_matrix = cosine_similarity(scaled_features)\n",
    "    \n",
    "    # Get index of target customer\n",
    "    target_idx = customer_features[customer_features['CustomerID'] == target_customer_id].index[0]\n",
    "    \n",
    "    # Get similarities for target customer\n",
    "    similarities = similarity_matrix[target_idx]\n",
    "    \n",
    "    # Get indices of top N similar customers (excluding self)\n",
    "    similar_indices = np.argsort(similarities)[::-1][1:n_recommendations+1]\n",
    "    \n",
    "    # Create recommendations dataframe\n",
    "    recommendations = pd.DataFrame({\n",
    "        'similar_customer_id': customer_features.iloc[similar_indices]['CustomerID'].values,\n",
    "        'similarity_score': similarities[similar_indices]\n",
    "    })\n",
    "    \n",
    "    return recommendations\n",
    "\n"
   ]
  },
  {
   "cell_type": "code",
   "execution_count": 27,
   "metadata": {},
   "outputs": [],
   "source": [
    "def generate_lookalike_recommendations(customer_ids):\n",
    "    # Load and prepare data\n",
    "    customers, products, transactions = load_and_prepare_data()\n",
    "    \n",
    "    # Create customer features\n",
    "    customer_features = create_customer_features(customers, transactions, products)\n",
    "    \n",
    "    # Generate recommendations for each customer\n",
    "    recommendations = {}\n",
    "    \n",
    "    for customer_id in customer_ids:\n",
    "        lookalikes = find_lookalikes(customer_features, customer_id)\n",
    "        recommendations[customer_id] = lookalikes.to_dict('records')\n",
    "    \n",
    "    return recommendations\n"
   ]
  },
  {
   "cell_type": "code",
   "execution_count": 28,
   "metadata": {},
   "outputs": [],
   "source": [
    "def save_recommendations_to_csv(recommendations, output_file):\n",
    "    # Convert recommendations to desired format\n",
    "    results = []\n",
    "    for customer_id, lookalikes in recommendations.items():\n",
    "        similar_customers = [\n",
    "            f\"{rec['similar_customer_id']}:{rec['similarity_score']:.4f}\"\n",
    "            for rec in lookalikes\n",
    "        ]\n",
    "        results.append({\n",
    "            'customer_id': customer_id,\n",
    "            'lookalikes': '|'.join(similar_customers)\n",
    "        })\n",
    "    \n",
    "    # Save to CSV\n",
    "    pd.DataFrame(results).to_csv(output_file, index=False)"
   ]
  },
  {
   "cell_type": "code",
   "execution_count": 29,
   "metadata": {},
   "outputs": [],
   "source": [
    "target_customers = [f'C{str(i).zfill(4)}' for i in range(1, 21)]\n",
    "recommendations = generate_lookalike_recommendations(target_customers)\n",
    "    \n",
    "# Save results\n",
    "save_recommendations_to_csv(recommendations, 'Nityam_Nityam_Lookalike.csv')"
   ]
  }
 ],
 "metadata": {
  "kernelspec": {
   "display_name": "Python 3",
   "language": "python",
   "name": "python3"
  },
  "language_info": {
   "codemirror_mode": {
    "name": "ipython",
    "version": 3
   },
   "file_extension": ".py",
   "mimetype": "text/x-python",
   "name": "python",
   "nbconvert_exporter": "python",
   "pygments_lexer": "ipython3",
   "version": "3.12.5"
  }
 },
 "nbformat": 4,
 "nbformat_minor": 2
}
